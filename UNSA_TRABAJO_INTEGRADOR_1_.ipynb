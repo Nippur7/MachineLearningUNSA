{
  "cells": [
    {
      "cell_type": "markdown",
      "metadata": {
        "id": "view-in-github",
        "colab_type": "text"
      },
      "source": [
        "<a href=\"https://colab.research.google.com/github/Nippur7/MachineLearningUNSA/blob/main/UNSA_TRABAJO_INTEGRADOR_1_.ipynb\" target=\"_parent\"><img src=\"https://colab.research.google.com/assets/colab-badge.svg\" alt=\"Open In Colab\"/></a>"
      ]
    },
    {
      "cell_type": "markdown",
      "metadata": {
        "id": "yWFMEJp2Zd1E"
      },
      "source": [
        "# ***TRABAJO INTEGRADOR I- ***\n",
        "DATOS BASADOS EN INFORMACIÓN PÚBLICA EN ARGENTINA\n",
        "\n",
        "\n"
      ]
    },
    {
      "cell_type": "markdown",
      "metadata": {
        "id": "DzfaPyiWmMZJ"
      },
      "source": [
        "---\n",
        "## **Acceso a los diferentes dataset y visualizacion**\n",
        "\n",
        "Los dataset podran ser descargado del siguiente [enlace de drive](https://drive.google.com/drive/folders/1J-R6fricR7D1uf9g_Cg8gbIMajCe-eYw?usp=sharing). en algunos casos los datase contiene información de diferentes periodos de tiempo y etiquetas de las variables con nomenclatura específica. Para tener referencia de los datos de cada variables de la base de datos consultar en los siguientes enlaces según el dataset elegido.\n",
        "\n",
        "\n",
        "\n",
        "|    | Tema | Nombre del archivo | Enlace |\n",
        "|---|    ---   |         ---         |   ---  |\n",
        "1   | .... | spam.csv  |  ....   |\n",
        "2   | supermercados| ventas-supermercados-2.csv  | [dataset de supermercados](https://www.datos.gob.ar/dataset/sspm_455/archivo/sspm_455.1) |\n",
        "3   | Mercado Central de Bs As |precios-mercadocentral.csv| [dataset de mercado](https://datos.gob.ar/ar/dataset/agroindustria-frutas-hortalizas---precios-mayoristas/archivo/agroindustria_6dce1e87-7988-4eaf-b0e1-b3abbb3964da) |"
      ]
    },
    {
      "cell_type": "markdown",
      "metadata": {
        "id": "s6OYVREZDtXF"
      },
      "source": [
        "#MATICH, Carlos, 28157071, tonymatich@hotmail.com"
      ]
    },
    {
      "cell_type": "markdown",
      "metadata": {
        "id": "Q2wopJgTECIF"
      },
      "source": [
        "Redactar en formato resumen la problematica planteado e interes en el análisis del dataset elegido, el impacto que puede llevar a futuro analizar o cruzar información sobre dichas variables ,y cual sería a priori, el modelo a resulado que usted quisiera encontrar en funciones de determinadas condiciones. Esto deberá ser detallado en forma breve a modo de introducción\n"
      ]
    },
    {
      "cell_type": "markdown",
      "source": [
        "\n",
        "\n",
        "---\n",
        "\n",
        "\n",
        "# El dataset elegido es el de 'precios-mercadocentral.csv'.\n",
        "Lo que se busca es poder estimar el precio de determinado producto, usando el año, el mes, el producto. Entiendo que es un ejemplo sólo con el objeto de la práctica, así que dejé de lado, la cotización del dolar de con esa fecha. Que según creo podría dar una estimación más certera.\n",
        "\n",
        "---\n",
        "\n"
      ],
      "metadata": {
        "id": "T85T3jBzM_hu"
      }
    },
    {
      "cell_type": "markdown",
      "metadata": {
        "id": "9YjUx7xKzBnw"
      },
      "source": [
        "_________________________________________________________________\n",
        "_________________________________________________________________\n",
        "_________________________________________________________________\n",
        "_________________________________________________________________\n",
        "##1- Ingrese el DATA SET"
      ]
    },
    {
      "cell_type": "code",
      "execution_count": null,
      "metadata": {
        "id": "fDny-v5Dxl6I"
      },
      "outputs": [],
      "source": [
        "#Subir archivo en la carpetita que aparece a la izquierda del colab, luego copiar la ruta y subirlo con las librerias necesarias\n",
        "import pandas as pd\n",
        "import numpy as np\n",
        "import seaborn as sb\n",
        "import matplotlib.pyplot as plt\n",
        "from sklearn.model_selection import train_test_split\n",
        "df = pd.read_csv('precios-mercadocentral.csv',engine='python')"
      ]
    },
    {
      "cell_type": "markdown",
      "metadata": {
        "id": "ajWaCuM0zJhN"
      },
      "source": [
        "##2- Aplicar PROCESO de ANÁLISIS EXPLORATORIO DE LOS DATOS (Algunas funciones comúnes que puedes aplicar: .head .info .describe etc)."
      ]
    },
    {
      "cell_type": "code",
      "execution_count": null,
      "metadata": {
        "id": "7t0-4wZyziwH",
        "outputId": "2b3aefe1-a96a-438e-cd79-481391c92e20"
      },
      "outputs": [
        {
          "data": {
            "text/html": [
              "<div>\n",
              "<style scoped>\n",
              "    .dataframe tbody tr th:only-of-type {\n",
              "        vertical-align: middle;\n",
              "    }\n",
              "\n",
              "    .dataframe tbody tr th {\n",
              "        vertical-align: top;\n",
              "    }\n",
              "\n",
              "    .dataframe thead th {\n",
              "        text-align: right;\n",
              "    }\n",
              "</style>\n",
              "<table border=\"1\" class=\"dataframe\">\n",
              "  <thead>\n",
              "    <tr style=\"text-align: right;\">\n",
              "      <th></th>\n",
              "      <th>pais_id</th>\n",
              "      <th>pais</th>\n",
              "      <th>mercado</th>\n",
              "      <th>año</th>\n",
              "      <th>mes</th>\n",
              "      <th>producto</th>\n",
              "      <th>variedad</th>\n",
              "      <th>origen</th>\n",
              "      <th>precio_usd_kg</th>\n",
              "      <th>moneda_cod</th>\n",
              "      <th>moneda</th>\n",
              "    </tr>\n",
              "  </thead>\n",
              "  <tbody>\n",
              "    <tr>\n",
              "      <th>0</th>\n",
              "      <td>32</td>\n",
              "      <td>Argentina</td>\n",
              "      <td>Mercado Central de Buenos Aires</td>\n",
              "      <td>2017</td>\n",
              "      <td>Enero</td>\n",
              "      <td>Anana</td>\n",
              "      <td>Perola</td>\n",
              "      <td>Brasil</td>\n",
              "      <td>1.22</td>\n",
              "      <td>USD</td>\n",
              "      <td>Dolares</td>\n",
              "    </tr>\n",
              "    <tr>\n",
              "      <th>1</th>\n",
              "      <td>32</td>\n",
              "      <td>Argentina</td>\n",
              "      <td>Mercado Central de Buenos Aires</td>\n",
              "      <td>2017</td>\n",
              "      <td>Enero</td>\n",
              "      <td>Banana</td>\n",
              "      <td>Cavdich</td>\n",
              "      <td>Ecuador</td>\n",
              "      <td>0.53</td>\n",
              "      <td>USD</td>\n",
              "      <td>Dolares</td>\n",
              "    </tr>\n",
              "    <tr>\n",
              "      <th>2</th>\n",
              "      <td>32</td>\n",
              "      <td>Argentina</td>\n",
              "      <td>Mercado Central de Buenos Aires</td>\n",
              "      <td>2017</td>\n",
              "      <td>Enero</td>\n",
              "      <td>Pomelo</td>\n",
              "      <td>Star Ruby</td>\n",
              "      <td>Argentina</td>\n",
              "      <td>0.86</td>\n",
              "      <td>USD</td>\n",
              "      <td>Dolares</td>\n",
              "    </tr>\n",
              "    <tr>\n",
              "      <th>3</th>\n",
              "      <td>32</td>\n",
              "      <td>Argentina</td>\n",
              "      <td>Mercado Central de Buenos Aires</td>\n",
              "      <td>2017</td>\n",
              "      <td>Enero</td>\n",
              "      <td>Limón</td>\n",
              "      <td>Eureka</td>\n",
              "      <td>Argentina</td>\n",
              "      <td>1.52</td>\n",
              "      <td>USD</td>\n",
              "      <td>Dolares</td>\n",
              "    </tr>\n",
              "    <tr>\n",
              "      <th>4</th>\n",
              "      <td>32</td>\n",
              "      <td>Argentina</td>\n",
              "      <td>Mercado Central de Buenos Aires</td>\n",
              "      <td>2017</td>\n",
              "      <td>Enero</td>\n",
              "      <td>Manzana</td>\n",
              "      <td>Granny Smith</td>\n",
              "      <td>Argentina</td>\n",
              "      <td>1.84</td>\n",
              "      <td>USD</td>\n",
              "      <td>Dolares</td>\n",
              "    </tr>\n",
              "  </tbody>\n",
              "</table>\n",
              "</div>"
            ],
            "text/plain": [
              "   pais_id       pais                          mercado   año    mes producto   \n",
              "0       32  Argentina  Mercado Central de Buenos Aires  2017  Enero    Anana  \\\n",
              "1       32  Argentina  Mercado Central de Buenos Aires  2017  Enero   Banana   \n",
              "2       32  Argentina  Mercado Central de Buenos Aires  2017  Enero   Pomelo   \n",
              "3       32  Argentina  Mercado Central de Buenos Aires  2017  Enero    Limón   \n",
              "4       32  Argentina  Mercado Central de Buenos Aires  2017  Enero  Manzana   \n",
              "\n",
              "       variedad     origen  precio_usd_kg moneda_cod   moneda  \n",
              "0        Perola     Brasil           1.22        USD  Dolares  \n",
              "1       Cavdich    Ecuador           0.53        USD  Dolares  \n",
              "2     Star Ruby  Argentina           0.86        USD  Dolares  \n",
              "3        Eureka  Argentina           1.52        USD  Dolares  \n",
              "4  Granny Smith  Argentina           1.84        USD  Dolares  "
            ]
          },
          "execution_count": 2,
          "metadata": {},
          "output_type": "execute_result"
        }
      ],
      "source": [
        "df.head()"
      ]
    },
    {
      "cell_type": "code",
      "execution_count": null,
      "metadata": {
        "id": "X_-pjBbjM619",
        "outputId": "7caa279b-2106-4a47-83d0-3607b0366dbc"
      },
      "outputs": [
        {
          "data": {
            "text/html": [
              "<div>\n",
              "<style scoped>\n",
              "    .dataframe tbody tr th:only-of-type {\n",
              "        vertical-align: middle;\n",
              "    }\n",
              "\n",
              "    .dataframe tbody tr th {\n",
              "        vertical-align: top;\n",
              "    }\n",
              "\n",
              "    .dataframe thead th {\n",
              "        text-align: right;\n",
              "    }\n",
              "</style>\n",
              "<table border=\"1\" class=\"dataframe\">\n",
              "  <thead>\n",
              "    <tr style=\"text-align: right;\">\n",
              "      <th></th>\n",
              "      <th>pais_id</th>\n",
              "      <th>año</th>\n",
              "      <th>precio_usd_kg</th>\n",
              "    </tr>\n",
              "  </thead>\n",
              "  <tbody>\n",
              "    <tr>\n",
              "      <th>count</th>\n",
              "      <td>828.0</td>\n",
              "      <td>828.000000</td>\n",
              "      <td>767.000000</td>\n",
              "    </tr>\n",
              "    <tr>\n",
              "      <th>mean</th>\n",
              "      <td>32.0</td>\n",
              "      <td>2017.376812</td>\n",
              "      <td>1.262360</td>\n",
              "    </tr>\n",
              "    <tr>\n",
              "      <th>std</th>\n",
              "      <td>0.0</td>\n",
              "      <td>0.484880</td>\n",
              "      <td>1.437011</td>\n",
              "    </tr>\n",
              "    <tr>\n",
              "      <th>min</th>\n",
              "      <td>32.0</td>\n",
              "      <td>2017.000000</td>\n",
              "      <td>0.000000</td>\n",
              "    </tr>\n",
              "    <tr>\n",
              "      <th>25%</th>\n",
              "      <td>32.0</td>\n",
              "      <td>2017.000000</td>\n",
              "      <td>0.470000</td>\n",
              "    </tr>\n",
              "    <tr>\n",
              "      <th>50%</th>\n",
              "      <td>32.0</td>\n",
              "      <td>2017.000000</td>\n",
              "      <td>0.860000</td>\n",
              "    </tr>\n",
              "    <tr>\n",
              "      <th>75%</th>\n",
              "      <td>32.0</td>\n",
              "      <td>2018.000000</td>\n",
              "      <td>1.460000</td>\n",
              "    </tr>\n",
              "    <tr>\n",
              "      <th>max</th>\n",
              "      <td>32.0</td>\n",
              "      <td>2018.000000</td>\n",
              "      <td>11.230000</td>\n",
              "    </tr>\n",
              "  </tbody>\n",
              "</table>\n",
              "</div>"
            ],
            "text/plain": [
              "       pais_id          año  precio_usd_kg\n",
              "count    828.0   828.000000     767.000000\n",
              "mean      32.0  2017.376812       1.262360\n",
              "std        0.0     0.484880       1.437011\n",
              "min       32.0  2017.000000       0.000000\n",
              "25%       32.0  2017.000000       0.470000\n",
              "50%       32.0  2017.000000       0.860000\n",
              "75%       32.0  2018.000000       1.460000\n",
              "max       32.0  2018.000000      11.230000"
            ]
          },
          "execution_count": 3,
          "metadata": {},
          "output_type": "execute_result"
        }
      ],
      "source": [
        "df.describe()"
      ]
    },
    {
      "cell_type": "code",
      "execution_count": null,
      "metadata": {
        "id": "pqa_S2rDM619",
        "outputId": "950e30f8-ce28-4116-dc5a-98cf0e92702b"
      },
      "outputs": [
        {
          "data": {
            "text/plain": [
              "(828, 11)"
            ]
          },
          "execution_count": 4,
          "metadata": {},
          "output_type": "execute_result"
        }
      ],
      "source": [
        "#Número de Filas y Columnas\n",
        "df.shape"
      ]
    },
    {
      "cell_type": "code",
      "execution_count": null,
      "metadata": {
        "id": "7jTXMZOhM619",
        "outputId": "52f7f0b5-9e66-4270-82d8-8c08471baa6d"
      },
      "outputs": [
        {
          "data": {
            "text/plain": [
              "pais_id            int64\n",
              "pais              object\n",
              "mercado           object\n",
              "año                int64\n",
              "mes               object\n",
              "producto          object\n",
              "variedad          object\n",
              "origen            object\n",
              "precio_usd_kg    float64\n",
              "moneda_cod        object\n",
              "moneda            object\n",
              "dtype: object"
            ]
          },
          "execution_count": 5,
          "metadata": {},
          "output_type": "execute_result"
        }
      ],
      "source": [
        "df.dtypes"
      ]
    },
    {
      "cell_type": "code",
      "execution_count": null,
      "metadata": {
        "id": "mFu8Tp32M619",
        "outputId": "45c81fbb-bba5-47c0-b2bb-ba9d10794fc1"
      },
      "outputs": [
        {
          "data": {
            "text/plain": [
              "producto\n",
              "Tomate       44\n",
              "Manzana      32\n",
              "Anana        20\n",
              "Pepino       20\n",
              "Brocoli      20\n",
              "Cebolla      20\n",
              "Chaucha      20\n",
              "Choclo       20\n",
              "Epinaca      20\n",
              "Lechuga      20\n",
              "Papa         20\n",
              "Pimiento     20\n",
              "Perejil      20\n",
              "Banana       20\n",
              "Radicheta    20\n",
              "Remolacha    20\n",
              "Repollo      20\n",
              "Zanahoria    20\n",
              "Zapallito    20\n",
              "Zapallo      20\n",
              "Berenjena    20\n",
              "Batata       20\n",
              "Arveja       20\n",
              "Apio         20\n",
              "Limón        20\n",
              "Mandarina    20\n",
              "Melón        20\n",
              "Naranja      20\n",
              "Pera         20\n",
              "Uva          20\n",
              "Pomelo       20\n",
              "Durazno      20\n",
              "Frutilla     20\n",
              "Kiwi         20\n",
              "Frambuesa    20\n",
              "Acelga       20\n",
              "Ajo          20\n",
              "Albahaca     20\n",
              "Ciruela      12\n",
              "PALTA         8\n",
              "Palta         8\n",
              "Cereza        4\n",
              "Name: count, dtype: int64"
            ]
          },
          "execution_count": 6,
          "metadata": {},
          "output_type": "execute_result"
        }
      ],
      "source": [
        "# Valores de la variable categórica Producto\n",
        "df['producto'].value_counts()"
      ]
    },
    {
      "cell_type": "code",
      "execution_count": null,
      "metadata": {
        "id": "J72iHAHrM61-",
        "outputId": "10fdc515-4938-416c-ddbf-9234d9ad1a10"
      },
      "outputs": [
        {
          "data": {
            "text/plain": [
              "array([[<Axes: title={'center': 'pais_id'}>,\n",
              "        <Axes: title={'center': 'año'}>],\n",
              "       [<Axes: title={'center': 'precio_usd_kg'}>, <Axes: >]],\n",
              "      dtype=object)"
            ]
          },
          "execution_count": 7,
          "metadata": {},
          "output_type": "execute_result"
        },
        {
          "data": {
            "image/png": "[encoded data removed]",
            "text/plain": [
              "<Figure size 1440x720 with 4 Axes>"
            ]
          },
          "metadata": {
            "needs_background": "light"
          },
          "output_type": "display_data"
        }
      ],
      "source": [
        "#Gráficas histograma de las variables numéricas\n",
        "df.hist(bins=50, figsize=(20,10))"
      ]
    },
    {
      "cell_type": "code",
      "execution_count": null,
      "metadata": {
        "id": "9LU1oyjyM61-",
        "outputId": "9bc96553-cace-44cf-b693-e7b57f1a03b9"
      },
      "outputs": [
        {
          "data": {
            "text/plain": [
              "<Axes: xlabel='producto', ylabel='precio_usd_kg'>"
            ]
          },
          "execution_count": 8,
          "metadata": {},
          "output_type": "execute_result"
        },
        {
          "data": {
            "image/png": "[encoded data removed]",
            "text/plain": [
              "<Figure size 3600x2520 with 1 Axes>"
            ]
          },
          "metadata": {
            "needs_background": "light"
          },
          "output_type": "display_data"
        }
      ],
      "source": [
        "df.plot(kind='scatter',x='producto',alpha=0.5,y='precio_usd_kg',figsize=(50,35)\n",
        "        )"
      ]
    },
    {
      "cell_type": "code",
      "execution_count": null,
      "metadata": {
        "id": "wr2NEoeFM61-",
        "outputId": "877c81a7-d352-439a-fc13-803f882c4300"
      },
      "outputs": [
        {
          "data": {
            "text/plain": [
              "array([[<Axes: xlabel='año', ylabel='año'>,\n",
              "        <Axes: xlabel='precio_usd_kg', ylabel='año'>],\n",
              "       [<Axes: xlabel='año', ylabel='precio_usd_kg'>,\n",
              "        <Axes: xlabel='precio_usd_kg', ylabel='precio_usd_kg'>]],\n",
              "      dtype=object)"
            ]
          },
          "execution_count": 10,
          "metadata": {},
          "output_type": "execute_result"
        },
        {
          "data": {
            "image/png": "[encoded data removed]",
            "text/plain": [
              "<Figure size 864x576 with 4 Axes>"
            ]
          },
          "metadata": {
            "needs_background": "light"
          },
          "output_type": "display_data"
        }
      ],
      "source": [
        "#Diagrama de correlación\n",
        "from pandas.plotting import scatter_matrix\n",
        "atributos = ['año','precio_usd_kg']\n",
        "scatter_matrix(df[atributos],figsize=(12,8))"
      ]
    },
    {
      "cell_type": "markdown",
      "metadata": {
        "id": "sjms7ns6zW-9"
      },
      "source": [
        "##3- Aplicar PROCESO DE LIMPIEZA"
      ]
    },
    {
      "cell_type": "code",
      "execution_count": null,
      "metadata": {
        "id": "xxgjEruPzjL_",
        "outputId": "08774032-5e74-4271-8a16-3f6c5ad36c77"
      },
      "outputs": [
        {
          "data": {
            "text/plain": [
              "True"
            ]
          },
          "execution_count": 9,
          "metadata": {},
          "output_type": "execute_result"
        }
      ],
      "source": [
        "df.isnull().values.any()"
      ]
    },
    {
      "cell_type": "code",
      "execution_count": null,
      "metadata": {
        "id": "YpbEu-_HM61_"
      },
      "outputs": [],
      "source": [
        "df_clean = df.dropna()"
      ]
    },
    {
      "cell_type": "code",
      "execution_count": null,
      "metadata": {
        "id": "9a2cYrKVM61_",
        "outputId": "775467aa-33b5-4a3d-f4ba-7ec5029df2e5"
      },
      "outputs": [
        {
          "name": "stdout",
          "output_type": "stream",
          "text": [
            "Filas originales 828\n",
            "Filas sin NaN 767\n"
          ]
        }
      ],
      "source": [
        "print(\"Filas originales\",len(df))\n",
        "print(\"Filas sin NaN\",len(df_clean))"
      ]
    },
    {
      "cell_type": "code",
      "execution_count": null,
      "metadata": {
        "id": "lovBmfRRM61_",
        "outputId": "8adc9405-f5ca-4017-c815-8c272e65a037"
      },
      "outputs": [
        {
          "data": {
            "text/plain": [
              "array([[ 3.],\n",
              "       [ 6.],\n",
              "       [33.],\n",
              "       [21.],\n",
              "       [23.],\n",
              "       [23.],\n",
              "       [22.],\n",
              "       [24.],\n",
              "       [25.],\n",
              "       [30.],\n",
              "       [38.],\n",
              "       [11.],\n",
              "       [14.],\n",
              "       [15.],\n",
              "       [18.],\n",
              "       [19.],\n",
              "       [17.],\n",
              "       [ 0.],\n",
              "       [ 1.],\n",
              "       [ 2.],\n",
              "       [ 4.],\n",
              "       [ 5.],\n",
              "       [ 7.],\n",
              "       [ 8.],\n",
              "       [ 9.],\n",
              "       [10.],\n",
              "       [12.],\n",
              "       [13.],\n",
              "       [16.],\n",
              "       [20.],\n",
              "       [28.],\n",
              "       [29.],\n",
              "       [31.],\n",
              "       [32.],\n",
              "       [34.],\n",
              "       [35.],\n",
              "       [36.],\n",
              "       [37.],\n",
              "       [37.],\n",
              "       [37.],\n",
              "       [39.],\n",
              "       [40.],\n",
              "       [41.],\n",
              "       [ 3.],\n",
              "       [ 6.],\n",
              "       [33.],\n",
              "       [21.],\n",
              "       [23.],\n",
              "       [23.],\n",
              "       [22.],\n",
              "       [24.],\n",
              "       [25.],\n",
              "       [30.],\n",
              "       [38.],\n",
              "       [11.],\n",
              "       [14.],\n",
              "       [15.],\n",
              "       [18.],\n",
              "       [19.],\n",
              "       [17.],\n",
              "       [ 0.],\n",
              "       [ 1.],\n",
              "       [ 2.],\n",
              "       [ 4.],\n",
              "       [ 5.],\n",
              "       [ 7.],\n",
              "       [ 8.],\n",
              "       [ 9.],\n",
              "       [10.],\n",
              "       [12.],\n",
              "       [13.],\n",
              "       [16.],\n",
              "       [20.],\n",
              "       [28.],\n",
              "       [29.],\n",
              "       [31.],\n",
              "       [32.],\n",
              "       [34.],\n",
              "       [35.],\n",
              "       [36.],\n",
              "       [37.],\n",
              "       [37.],\n",
              "       [37.],\n",
              "       [39.],\n",
              "       [40.],\n",
              "       [41.],\n",
              "       [ 3.],\n",
              "       [ 6.],\n",
              "       [33.],\n",
              "       [21.],\n",
              "       [23.],\n",
              "       [23.],\n",
              "       [22.],\n",
              "       [24.],\n",
              "       [25.],\n",
              "       [30.],\n",
              "       [38.],\n",
              "       [11.],\n",
              "       [14.],\n",
              "       [15.],\n",
              "       [18.],\n",
              "       [19.],\n",
              "       [17.],\n",
              "       [ 0.],\n",
              "       [ 1.],\n",
              "       [ 2.],\n",
              "       [ 4.],\n",
              "       [ 5.],\n",
              "       [ 7.],\n",
              "       [ 8.],\n",
              "       [ 9.],\n",
              "       [10.],\n",
              "       [12.],\n",
              "       [13.],\n",
              "       [16.],\n",
              "       [20.],\n",
              "       [28.],\n",
              "       [29.],\n",
              "       [31.],\n",
              "       [32.],\n",
              "       [34.],\n",
              "       [35.],\n",
              "       [36.],\n",
              "       [37.],\n",
              "       [37.],\n",
              "       [37.],\n",
              "       [39.],\n",
              "       [40.],\n",
              "       [41.],\n",
              "       [ 3.],\n",
              "       [ 6.],\n",
              "       [33.],\n",
              "       [21.],\n",
              "       [23.],\n",
              "       [23.],\n",
              "       [22.],\n",
              "       [24.],\n",
              "       [25.],\n",
              "       [30.],\n",
              "       [38.],\n",
              "       [11.],\n",
              "       [14.],\n",
              "       [15.],\n",
              "       [18.],\n",
              "       [19.],\n",
              "       [17.],\n",
              "       [ 0.],\n",
              "       [ 1.],\n",
              "       [ 2.],\n",
              "       [ 4.],\n",
              "       [ 5.],\n",
              "       [ 7.],\n",
              "       [ 8.],\n",
              "       [ 9.],\n",
              "       [10.],\n",
              "       [12.],\n",
              "       [13.],\n",
              "       [16.],\n",
              "       [20.],\n",
              "       [28.],\n",
              "       [29.],\n",
              "       [31.],\n",
              "       [32.],\n",
              "       [34.],\n",
              "       [35.],\n",
              "       [36.],\n",
              "       [37.],\n",
              "       [37.],\n",
              "       [37.],\n",
              "       [39.],\n",
              "       [40.],\n",
              "       [41.],\n",
              "       [ 3.],\n",
              "       [ 6.],\n",
              "       [33.],\n",
              "       [21.],\n",
              "       [23.],\n",
              "       [23.],\n",
              "       [22.],\n",
              "       [24.],\n",
              "       [25.],\n",
              "       [30.],\n",
              "       [38.],\n",
              "       [26.],\n",
              "       [14.],\n",
              "       [15.],\n",
              "       [18.],\n",
              "       [19.],\n",
              "       [17.],\n",
              "       [ 0.],\n",
              "       [ 1.],\n",
              "       [ 2.],\n",
              "       [ 4.],\n",
              "       [ 5.],\n",
              "       [ 7.],\n",
              "       [ 8.],\n",
              "       [ 9.],\n",
              "       [10.],\n",
              "       [12.],\n",
              "       [13.],\n",
              "       [16.],\n",
              "       [20.],\n",
              "       [28.],\n",
              "       [29.],\n",
              "       [31.],\n",
              "       [32.],\n",
              "       [34.],\n",
              "       [35.],\n",
              "       [36.],\n",
              "       [37.],\n",
              "       [37.],\n",
              "       [37.],\n",
              "       [39.],\n",
              "       [40.],\n",
              "       [41.],\n",
              "       [ 3.],\n",
              "       [ 6.],\n",
              "       [33.],\n",
              "       [21.],\n",
              "       [23.],\n",
              "       [23.],\n",
              "       [22.],\n",
              "       [24.],\n",
              "       [25.],\n",
              "       [30.],\n",
              "       [38.],\n",
              "       [26.],\n",
              "       [14.],\n",
              "       [15.],\n",
              "       [18.],\n",
              "       [19.],\n",
              "       [17.],\n",
              "       [ 0.],\n",
              "       [ 1.],\n",
              "       [ 2.],\n",
              "       [ 4.],\n",
              "       [ 5.],\n",
              "       [ 7.],\n",
              "       [ 8.],\n",
              "       [ 9.],\n",
              "       [10.],\n",
              "       [12.],\n",
              "       [13.],\n",
              "       [16.],\n",
              "       [20.],\n",
              "       [28.],\n",
              "       [29.],\n",
              "       [31.],\n",
              "       [32.],\n",
              "       [34.],\n",
              "       [35.],\n",
              "       [36.],\n",
              "       [37.],\n",
              "       [37.],\n",
              "       [37.],\n",
              "       [39.],\n",
              "       [40.],\n",
              "       [41.],\n",
              "       [ 3.],\n",
              "       [ 6.],\n",
              "       [33.],\n",
              "       [21.],\n",
              "       [23.],\n",
              "       [23.],\n",
              "       [22.],\n",
              "       [24.],\n",
              "       [25.],\n",
              "       [30.],\n",
              "       [38.],\n",
              "       [26.],\n",
              "       [14.],\n",
              "       [15.],\n",
              "       [18.],\n",
              "       [19.],\n",
              "       [17.],\n",
              "       [ 0.],\n",
              "       [ 1.],\n",
              "       [ 2.],\n",
              "       [ 4.],\n",
              "       [ 5.],\n",
              "       [ 7.],\n",
              "       [ 8.],\n",
              "       [ 9.],\n",
              "       [10.],\n",
              "       [12.],\n",
              "       [13.],\n",
              "       [16.],\n",
              "       [20.],\n",
              "       [28.],\n",
              "       [29.],\n",
              "       [31.],\n",
              "       [32.],\n",
              "       [34.],\n",
              "       [35.],\n",
              "       [36.],\n",
              "       [37.],\n",
              "       [37.],\n",
              "       [37.],\n",
              "       [39.],\n",
              "       [40.],\n",
              "       [41.],\n",
              "       [ 3.],\n",
              "       [ 6.],\n",
              "       [33.],\n",
              "       [21.],\n",
              "       [23.],\n",
              "       [23.],\n",
              "       [22.],\n",
              "       [24.],\n",
              "       [25.],\n",
              "       [30.],\n",
              "       [38.],\n",
              "       [26.],\n",
              "       [14.],\n",
              "       [15.],\n",
              "       [18.],\n",
              "       [19.],\n",
              "       [17.],\n",
              "       [ 0.],\n",
              "       [ 1.],\n",
              "       [ 2.],\n",
              "       [ 4.],\n",
              "       [ 5.],\n",
              "       [ 7.],\n",
              "       [ 8.],\n",
              "       [ 9.],\n",
              "       [10.],\n",
              "       [12.],\n",
              "       [13.],\n",
              "       [16.],\n",
              "       [20.],\n",
              "       [28.],\n",
              "       [29.],\n",
              "       [31.],\n",
              "       [32.],\n",
              "       [34.],\n",
              "       [35.],\n",
              "       [36.],\n",
              "       [37.],\n",
              "       [37.],\n",
              "       [37.],\n",
              "       [39.],\n",
              "       [40.],\n",
              "       [41.],\n",
              "       [ 3.],\n",
              "       [ 6.],\n",
              "       [33.],\n",
              "       [21.],\n",
              "       [23.],\n",
              "       [23.],\n",
              "       [22.],\n",
              "       [24.],\n",
              "       [25.],\n",
              "       [30.],\n",
              "       [38.],\n",
              "       [26.],\n",
              "       [14.],\n",
              "       [15.],\n",
              "       [18.],\n",
              "       [19.],\n",
              "       [17.],\n",
              "       [ 0.],\n",
              "       [ 1.],\n",
              "       [ 2.],\n",
              "       [ 4.],\n",
              "       [ 5.],\n",
              "       [ 7.],\n",
              "       [ 8.],\n",
              "       [ 9.],\n",
              "       [10.],\n",
              "       [12.],\n",
              "       [13.],\n",
              "       [16.],\n",
              "       [20.],\n",
              "       [28.],\n",
              "       [29.],\n",
              "       [31.],\n",
              "       [32.],\n",
              "       [34.],\n",
              "       [35.],\n",
              "       [36.],\n",
              "       [37.],\n",
              "       [37.],\n",
              "       [37.],\n",
              "       [39.],\n",
              "       [40.],\n",
              "       [41.],\n",
              "       [ 3.],\n",
              "       [ 6.],\n",
              "       [33.],\n",
              "       [21.],\n",
              "       [23.],\n",
              "       [23.],\n",
              "       [22.],\n",
              "       [24.],\n",
              "       [25.],\n",
              "       [30.],\n",
              "       [38.],\n",
              "       [26.],\n",
              "       [14.],\n",
              "       [15.],\n",
              "       [18.],\n",
              "       [19.],\n",
              "       [17.],\n",
              "       [ 0.],\n",
              "       [ 1.],\n",
              "       [ 2.],\n",
              "       [ 4.],\n",
              "       [ 5.],\n",
              "       [ 7.],\n",
              "       [ 8.],\n",
              "       [ 9.],\n",
              "       [10.],\n",
              "       [12.],\n",
              "       [13.],\n",
              "       [16.],\n",
              "       [20.],\n",
              "       [28.],\n",
              "       [29.],\n",
              "       [31.],\n",
              "       [32.],\n",
              "       [34.],\n",
              "       [35.],\n",
              "       [36.],\n",
              "       [37.],\n",
              "       [37.],\n",
              "       [37.],\n",
              "       [39.],\n",
              "       [40.],\n",
              "       [41.],\n",
              "       [ 3.],\n",
              "       [ 6.],\n",
              "       [33.],\n",
              "       [21.],\n",
              "       [23.],\n",
              "       [23.],\n",
              "       [22.],\n",
              "       [24.],\n",
              "       [25.],\n",
              "       [30.],\n",
              "       [38.],\n",
              "       [26.],\n",
              "       [14.],\n",
              "       [15.],\n",
              "       [18.],\n",
              "       [19.],\n",
              "       [17.],\n",
              "       [ 0.],\n",
              "       [ 1.],\n",
              "       [ 2.],\n",
              "       [ 4.],\n",
              "       [ 5.],\n",
              "       [ 7.],\n",
              "       [ 8.],\n",
              "       [ 9.],\n",
              "       [10.],\n",
              "       [12.],\n",
              "       [13.],\n",
              "       [16.],\n",
              "       [20.],\n",
              "       [28.],\n",
              "       [29.],\n",
              "       [31.],\n",
              "       [32.],\n",
              "       [34.],\n",
              "       [35.],\n",
              "       [36.],\n",
              "       [37.],\n",
              "       [37.],\n",
              "       [37.],\n",
              "       [39.],\n",
              "       [40.],\n",
              "       [41.],\n",
              "       [ 3.],\n",
              "       [ 6.],\n",
              "       [33.],\n",
              "       [21.],\n",
              "       [23.],\n",
              "       [23.],\n",
              "       [22.],\n",
              "       [24.],\n",
              "       [25.],\n",
              "       [30.],\n",
              "       [38.],\n",
              "       [26.],\n",
              "       [14.],\n",
              "       [15.],\n",
              "       [18.],\n",
              "       [19.],\n",
              "       [17.],\n",
              "       [ 0.],\n",
              "       [ 1.],\n",
              "       [ 2.],\n",
              "       [ 4.],\n",
              "       [ 5.],\n",
              "       [ 7.],\n",
              "       [ 8.],\n",
              "       [ 9.],\n",
              "       [10.],\n",
              "       [12.],\n",
              "       [13.],\n",
              "       [16.],\n",
              "       [20.],\n",
              "       [28.],\n",
              "       [29.],\n",
              "       [31.],\n",
              "       [32.],\n",
              "       [34.],\n",
              "       [35.],\n",
              "       [36.],\n",
              "       [37.],\n",
              "       [37.],\n",
              "       [37.],\n",
              "       [39.],\n",
              "       [40.],\n",
              "       [41.],\n",
              "       [ 3.],\n",
              "       [ 6.],\n",
              "       [15.],\n",
              "       [17.],\n",
              "       [18.],\n",
              "       [19.],\n",
              "       [21.],\n",
              "       [22.],\n",
              "       [23.],\n",
              "       [24.],\n",
              "       [25.],\n",
              "       [27.],\n",
              "       [30.],\n",
              "       [33.],\n",
              "       [38.],\n",
              "       [ 0.],\n",
              "       [ 1.],\n",
              "       [ 2.],\n",
              "       [ 4.],\n",
              "       [ 5.],\n",
              "       [ 7.],\n",
              "       [ 8.],\n",
              "       [ 9.],\n",
              "       [10.],\n",
              "       [12.],\n",
              "       [13.],\n",
              "       [16.],\n",
              "       [20.],\n",
              "       [28.],\n",
              "       [29.],\n",
              "       [31.],\n",
              "       [32.],\n",
              "       [34.],\n",
              "       [35.],\n",
              "       [36.],\n",
              "       [37.],\n",
              "       [39.],\n",
              "       [40.],\n",
              "       [41.],\n",
              "       [ 3.],\n",
              "       [ 6.],\n",
              "       [15.],\n",
              "       [17.],\n",
              "       [18.],\n",
              "       [19.],\n",
              "       [21.],\n",
              "       [22.],\n",
              "       [23.],\n",
              "       [24.],\n",
              "       [25.],\n",
              "       [27.],\n",
              "       [30.],\n",
              "       [33.],\n",
              "       [38.],\n",
              "       [ 0.],\n",
              "       [ 1.],\n",
              "       [ 2.],\n",
              "       [ 4.],\n",
              "       [ 5.],\n",
              "       [ 7.],\n",
              "       [ 8.],\n",
              "       [ 9.],\n",
              "       [10.],\n",
              "       [12.],\n",
              "       [13.],\n",
              "       [16.],\n",
              "       [20.],\n",
              "       [28.],\n",
              "       [29.],\n",
              "       [31.],\n",
              "       [32.],\n",
              "       [34.],\n",
              "       [35.],\n",
              "       [36.],\n",
              "       [37.],\n",
              "       [39.],\n",
              "       [40.],\n",
              "       [41.],\n",
              "       [ 3.],\n",
              "       [ 6.],\n",
              "       [15.],\n",
              "       [17.],\n",
              "       [18.],\n",
              "       [19.],\n",
              "       [21.],\n",
              "       [22.],\n",
              "       [23.],\n",
              "       [24.],\n",
              "       [25.],\n",
              "       [27.],\n",
              "       [30.],\n",
              "       [33.],\n",
              "       [38.],\n",
              "       [ 0.],\n",
              "       [ 1.],\n",
              "       [ 2.],\n",
              "       [ 4.],\n",
              "       [ 5.],\n",
              "       [ 7.],\n",
              "       [ 8.],\n",
              "       [ 9.],\n",
              "       [10.],\n",
              "       [12.],\n",
              "       [13.],\n",
              "       [16.],\n",
              "       [20.],\n",
              "       [28.],\n",
              "       [29.],\n",
              "       [31.],\n",
              "       [32.],\n",
              "       [34.],\n",
              "       [35.],\n",
              "       [36.],\n",
              "       [37.],\n",
              "       [39.],\n",
              "       [40.],\n",
              "       [41.],\n",
              "       [ 3.],\n",
              "       [ 6.],\n",
              "       [15.],\n",
              "       [17.],\n",
              "       [18.],\n",
              "       [19.],\n",
              "       [21.],\n",
              "       [22.],\n",
              "       [23.],\n",
              "       [24.],\n",
              "       [25.],\n",
              "       [27.],\n",
              "       [30.],\n",
              "       [33.],\n",
              "       [38.],\n",
              "       [ 0.],\n",
              "       [ 1.],\n",
              "       [ 2.],\n",
              "       [ 4.],\n",
              "       [ 5.],\n",
              "       [ 7.],\n",
              "       [ 8.],\n",
              "       [ 9.],\n",
              "       [10.],\n",
              "       [12.],\n",
              "       [13.],\n",
              "       [16.],\n",
              "       [20.],\n",
              "       [28.],\n",
              "       [29.],\n",
              "       [31.],\n",
              "       [32.],\n",
              "       [34.],\n",
              "       [35.],\n",
              "       [36.],\n",
              "       [37.],\n",
              "       [39.],\n",
              "       [40.],\n",
              "       [41.],\n",
              "       [ 3.],\n",
              "       [ 6.],\n",
              "       [15.],\n",
              "       [17.],\n",
              "       [18.],\n",
              "       [19.],\n",
              "       [21.],\n",
              "       [22.],\n",
              "       [23.],\n",
              "       [24.],\n",
              "       [25.],\n",
              "       [27.],\n",
              "       [30.],\n",
              "       [33.],\n",
              "       [38.],\n",
              "       [ 0.],\n",
              "       [ 1.],\n",
              "       [ 2.],\n",
              "       [ 4.],\n",
              "       [ 5.],\n",
              "       [ 7.],\n",
              "       [ 8.],\n",
              "       [ 9.],\n",
              "       [10.],\n",
              "       [12.],\n",
              "       [13.],\n",
              "       [16.],\n",
              "       [20.],\n",
              "       [28.],\n",
              "       [29.],\n",
              "       [31.],\n",
              "       [32.],\n",
              "       [34.],\n",
              "       [35.],\n",
              "       [36.],\n",
              "       [37.],\n",
              "       [39.],\n",
              "       [40.],\n",
              "       [41.],\n",
              "       [ 3.],\n",
              "       [ 6.],\n",
              "       [15.],\n",
              "       [17.],\n",
              "       [18.],\n",
              "       [19.],\n",
              "       [21.],\n",
              "       [22.],\n",
              "       [23.],\n",
              "       [24.],\n",
              "       [25.],\n",
              "       [27.],\n",
              "       [30.],\n",
              "       [33.],\n",
              "       [38.],\n",
              "       [ 0.],\n",
              "       [ 1.],\n",
              "       [ 2.],\n",
              "       [ 4.],\n",
              "       [ 5.],\n",
              "       [ 7.],\n",
              "       [ 8.],\n",
              "       [ 9.],\n",
              "       [10.],\n",
              "       [12.],\n",
              "       [13.],\n",
              "       [16.],\n",
              "       [20.],\n",
              "       [28.],\n",
              "       [29.],\n",
              "       [31.],\n",
              "       [32.],\n",
              "       [34.],\n",
              "       [35.],\n",
              "       [36.],\n",
              "       [37.],\n",
              "       [39.],\n",
              "       [40.],\n",
              "       [41.],\n",
              "       [ 3.],\n",
              "       [ 6.],\n",
              "       [15.],\n",
              "       [17.],\n",
              "       [18.],\n",
              "       [19.],\n",
              "       [21.],\n",
              "       [22.],\n",
              "       [23.],\n",
              "       [24.],\n",
              "       [25.],\n",
              "       [27.],\n",
              "       [30.],\n",
              "       [33.],\n",
              "       [38.],\n",
              "       [ 0.],\n",
              "       [ 1.],\n",
              "       [ 2.],\n",
              "       [ 4.],\n",
              "       [ 5.],\n",
              "       [ 7.],\n",
              "       [ 8.],\n",
              "       [ 9.],\n",
              "       [10.],\n",
              "       [12.],\n",
              "       [13.],\n",
              "       [16.],\n",
              "       [20.],\n",
              "       [28.],\n",
              "       [29.],\n",
              "       [31.],\n",
              "       [32.],\n",
              "       [34.],\n",
              "       [35.],\n",
              "       [36.],\n",
              "       [37.],\n",
              "       [39.],\n",
              "       [40.],\n",
              "       [41.],\n",
              "       [ 3.],\n",
              "       [ 6.],\n",
              "       [15.],\n",
              "       [17.],\n",
              "       [18.],\n",
              "       [19.],\n",
              "       [21.],\n",
              "       [22.],\n",
              "       [23.],\n",
              "       [24.],\n",
              "       [25.],\n",
              "       [27.],\n",
              "       [30.],\n",
              "       [33.],\n",
              "       [38.],\n",
              "       [ 0.],\n",
              "       [ 1.],\n",
              "       [ 2.],\n",
              "       [ 4.],\n",
              "       [ 5.],\n",
              "       [ 7.],\n",
              "       [ 8.],\n",
              "       [ 9.],\n",
              "       [10.],\n",
              "       [12.],\n",
              "       [13.],\n",
              "       [16.],\n",
              "       [20.],\n",
              "       [28.],\n",
              "       [29.],\n",
              "       [31.],\n",
              "       [32.],\n",
              "       [34.],\n",
              "       [35.],\n",
              "       [36.],\n",
              "       [37.],\n",
              "       [39.],\n",
              "       [40.],\n",
              "       [41.]])"
            ]
          },
          "execution_count": 13,
          "metadata": {},
          "output_type": "execute_result"
        }
      ],
      "source": [
        "from sklearn.preprocessing import OrdinalEncoder\n",
        "Nominal_coder = OrdinalEncoder()\n",
        "Nominal_coder.fit_transform(df[['producto']])"
      ]
    },
    {
      "cell_type": "code",
      "execution_count": null,
      "metadata": {
        "id": "cEwoXfdtM62A",
        "outputId": "42278e69-ae47-49dd-c666-6cdd37b10d16"
      },
      "outputs": [
        {
          "data": {
            "text/plain": [
              "[array(['Acelga', 'Ajo', 'Albahaca', 'Anana', 'Apio', 'Arveja', 'Banana',\n",
              "        'Batata', 'Berenjena', 'Brocoli', 'Cebolla', 'Cereza', 'Chaucha',\n",
              "        'Choclo', 'Ciruela', 'Durazno', 'Epinaca', 'Frambuesa', 'Frutilla',\n",
              "        'Kiwi', 'Lechuga', 'Limón', 'Mandarina', 'Manzana', 'Melón',\n",
              "        'Naranja', 'PALTA', 'Palta', 'Papa', 'Pepino', 'Pera', 'Perejil',\n",
              "        'Pimiento', 'Pomelo', 'Radicheta', 'Remolacha', 'Repollo',\n",
              "        'Tomate', 'Uva', 'Zanahoria', 'Zapallito', 'Zapallo'], dtype=object)]"
            ]
          },
          "execution_count": 14,
          "metadata": {},
          "output_type": "execute_result"
        }
      ],
      "source": [
        "Nominal_coder.categories_"
      ]
    },
    {
      "cell_type": "code",
      "execution_count": null,
      "metadata": {
        "id": "Xo0YlaYZM62A",
        "outputId": "4c6fd36d-98e4-4b79-caa3-21264d0bf539"
      },
      "outputs": [
        {
          "data": {
            "text/html": [
              "<style>#sk-container-id-1 {color: black;background-color: white;}#sk-container-id-1 pre{padding: 0;}#sk-container-id-1 div.sk-toggleable {background-color: white;}#sk-container-id-1 label.sk-toggleable__label {cursor: pointer;display: block;width: 100%;margin-bottom: 0;padding: 0.3em;box-sizing: border-box;text-align: center;}#sk-container-id-1 label.sk-toggleable__label-arrow:before {content: \"▸\";float: left;margin-right: 0.25em;color: #696969;}#sk-container-id-1 label.sk-toggleable__label-arrow:hover:before {color: black;}#sk-container-id-1 div.sk-estimator:hover label.sk-toggleable__label-arrow:before {color: black;}#sk-container-id-1 div.sk-toggleable__content {max-height: 0;max-width: 0;overflow: hidden;text-align: left;background-color: #f0f8ff;}#sk-container-id-1 div.sk-toggleable__content pre {margin: 0.2em;color: black;border-radius: 0.25em;background-color: #f0f8ff;}#sk-container-id-1 input.sk-toggleable__control:checked~div.sk-toggleable__content {max-height: 200px;max-width: 100%;overflow: auto;}#sk-container-id-1 input.sk-toggleable__control:checked~label.sk-toggleable__label-arrow:before {content: \"▾\";}#sk-container-id-1 div.sk-estimator input.sk-toggleable__control:checked~label.sk-toggleable__label {background-color: #d4ebff;}#sk-container-id-1 div.sk-label input.sk-toggleable__control:checked~label.sk-toggleable__label {background-color: #d4ebff;}#sk-container-id-1 input.sk-hidden--visually {border: 0;clip: rect(1px 1px 1px 1px);clip: rect(1px, 1px, 1px, 1px);height: 1px;margin: -1px;overflow: hidden;padding: 0;position: absolute;width: 1px;}#sk-container-id-1 div.sk-estimator {font-family: monospace;background-color: #f0f8ff;border: 1px dotted black;border-radius: 0.25em;box-sizing: border-box;margin-bottom: 0.5em;}#sk-container-id-1 div.sk-estimator:hover {background-color: #d4ebff;}#sk-container-id-1 div.sk-parallel-item::after {content: \"\";width: 100%;border-bottom: 1px solid gray;flex-grow: 1;}#sk-container-id-1 div.sk-label:hover label.sk-toggleable__label {background-color: #d4ebff;}#sk-container-id-1 div.sk-serial::before {content: \"\";position: absolute;border-left: 1px solid gray;box-sizing: border-box;top: 0;bottom: 0;left: 50%;z-index: 0;}#sk-container-id-1 div.sk-serial {display: flex;flex-direction: column;align-items: center;background-color: white;padding-right: 0.2em;padding-left: 0.2em;position: relative;}#sk-container-id-1 div.sk-item {position: relative;z-index: 1;}#sk-container-id-1 div.sk-parallel {display: flex;align-items: stretch;justify-content: center;background-color: white;position: relative;}#sk-container-id-1 div.sk-item::before, #sk-container-id-1 div.sk-parallel-item::before {content: \"\";position: absolute;border-left: 1px solid gray;box-sizing: border-box;top: 0;bottom: 0;left: 50%;z-index: -1;}#sk-container-id-1 div.sk-parallel-item {display: flex;flex-direction: column;z-index: 1;position: relative;background-color: white;}#sk-container-id-1 div.sk-parallel-item:first-child::after {align-self: flex-end;width: 50%;}#sk-container-id-1 div.sk-parallel-item:last-child::after {align-self: flex-start;width: 50%;}#sk-container-id-1 div.sk-parallel-item:only-child::after {width: 0;}#sk-container-id-1 div.sk-dashed-wrapped {border: 1px dashed gray;margin: 0 0.4em 0.5em 0.4em;box-sizing: border-box;padding-bottom: 0.4em;background-color: white;}#sk-container-id-1 div.sk-label label {font-family: monospace;font-weight: bold;display: inline-block;line-height: 1.2em;}#sk-container-id-1 div.sk-label-container {text-align: center;}#sk-container-id-1 div.sk-container {/* jupyter's `normalize.less` sets `[hidden] { display: none; }` but bootstrap.min.css set `[hidden] { display: none !important; }` so we also need the `!important` here to be able to override the default hidden behavior on the sphinx rendered scikit-learn.org. See: https://github.com/scikit-learn/scikit-learn/issues/21755 */display: inline-block !important;position: relative;}#sk-container-id-1 div.sk-text-repr-fallback {display: none;}</style><div id=\"sk-container-id-1\" class=\"sk-top-container\"><div class=\"sk-text-repr-fallback\"><pre>OrdinalEncoder()</pre><b>In a Jupyter environment, please rerun this cell to show the HTML representation or trust the notebook. <br />On GitHub, the HTML representation is unable to render, please try loading this page with nbviewer.org.</b></div><div class=\"sk-container\" hidden><div class=\"sk-item\"><div class=\"sk-estimator sk-toggleable\"><input class=\"sk-toggleable__control sk-hidden--visually\" id=\"sk-estimator-id-1\" type=\"checkbox\" checked><label for=\"sk-estimator-id-1\" class=\"sk-toggleable__label sk-toggleable__label-arrow\">OrdinalEncoder</label><div class=\"sk-toggleable__content\"><pre>OrdinalEncoder()</pre></div></div></div></div></div>"
            ],
            "text/plain": [
              "OrdinalEncoder()"
            ]
          },
          "execution_count": 15,
          "metadata": {},
          "output_type": "execute_result"
        }
      ],
      "source": [
        "Nominal_coder"
      ]
    },
    {
      "cell_type": "code",
      "execution_count": null,
      "metadata": {
        "id": "fXsjVkjPM62A",
        "outputId": "1754c5e4-a651-4fa9-afeb-cd5614df1aa6"
      },
      "outputs": [
        {
          "name": "stderr",
          "output_type": "stream",
          "text": [
            "C:\\Users\\Public\\Documents\\Wondershare\\CreatorTemp\\ipykernel_18176\\625103288.py:1: SettingWithCopyWarning: \n",
            "A value is trying to be set on a copy of a slice from a DataFrame.\n",
            "Try using .loc[row_indexer,col_indexer] = value instead\n",
            "\n",
            "See the caveats in the documentation: https://pandas.pydata.org/pandas-docs/stable/user_guide/indexing.html#returning-a-view-versus-a-copy\n",
            "  df_clean['producto_cod'] = Nominal_coder.fit_transform(df_clean[['producto']])\n",
            "C:\\Users\\Public\\Documents\\Wondershare\\CreatorTemp\\ipykernel_18176\\625103288.py:2: SettingWithCopyWarning: \n",
            "A value is trying to be set on a copy of a slice from a DataFrame.\n",
            "Try using .loc[row_indexer,col_indexer] = value instead\n",
            "\n",
            "See the caveats in the documentation: https://pandas.pydata.org/pandas-docs/stable/user_guide/indexing.html#returning-a-view-versus-a-copy\n",
            "  df_clean['mes_cod'] = Nominal_coder.fit_transform(df_clean[['mes']])\n"
          ]
        }
      ],
      "source": [
        "df_clean['producto_cod'] = Nominal_coder.fit_transform(df_clean[['producto']])\n",
        "df_clean['mes_cod'] = Nominal_coder.fit_transform(df_clean[['mes']])"
      ]
    },
    {
      "cell_type": "code",
      "execution_count": null,
      "metadata": {
        "id": "FinBdKYvM62A",
        "outputId": "092d37ef-58cb-4107-ff48-532ec97c435b"
      },
      "outputs": [
        {
          "name": "stdout",
          "output_type": "stream",
          "text": [
            "<class 'pandas.core.frame.DataFrame'>\n",
            "Index: 767 entries, 0 to 827\n",
            "Data columns (total 13 columns):\n",
            " #   Column         Non-Null Count  Dtype  \n",
            "---  ------         --------------  -----  \n",
            " 0   pais_id        767 non-null    int64  \n",
            " 1   pais           767 non-null    object \n",
            " 2   mercado        767 non-null    object \n",
            " 3   año            767 non-null    int64  \n",
            " 4   mes            767 non-null    object \n",
            " 5   producto       767 non-null    object \n",
            " 6   variedad       767 non-null    object \n",
            " 7   origen         767 non-null    object \n",
            " 8   precio_usd_kg  767 non-null    float64\n",
            " 9   moneda_cod     767 non-null    object \n",
            " 10  moneda         767 non-null    object \n",
            " 11  producto_cod   767 non-null    float64\n",
            " 12  mes_cod        767 non-null    float64\n",
            "dtypes: float64(3), int64(2), object(8)\n",
            "memory usage: 83.9+ KB\n"
          ]
        }
      ],
      "source": [
        "df_clean.info()"
      ]
    },
    {
      "cell_type": "markdown",
      "metadata": {
        "id": "hSzNV8PczkA2"
      },
      "source": [
        "##4- Aplicar PROCESO para DEFINIR tu X e Y para APLICAR REGRESION LINEAL Y LOGISTICA segun el DATA SET a las variables que consideres adecuadas. RECUERDA ESTANDARIZAR LAS VARIABLES PARA CORRELACIÓN LOGÍSTICA."
      ]
    },
    {
      "cell_type": "code",
      "execution_count": null,
      "metadata": {
        "id": "jFO4jxOYz7IM"
      },
      "outputs": [],
      "source": [
        "X=df_clean.loc[:,['año','mes_cod','producto_cod']]"
      ]
    },
    {
      "cell_type": "code",
      "execution_count": null,
      "metadata": {
        "id": "cn9vuoRRM62A"
      },
      "outputs": [],
      "source": [
        "y=df_clean['precio_usd_kg']"
      ]
    },
    {
      "cell_type": "code",
      "execution_count": null,
      "metadata": {
        "id": "5VY6ykMWM62B"
      },
      "outputs": [],
      "source": [
        "X_train,X_test,y_train, y_test = train_test_split(X,y, train_size=0.8)"
      ]
    },
    {
      "cell_type": "code",
      "execution_count": null,
      "metadata": {
        "id": "9sQqFwVvM62B",
        "outputId": "c480ef94-183f-45e9-a9a7-4cff59bde165"
      },
      "outputs": [
        {
          "data": {
            "text/plain": [
              "((613, 3), (154, 3), (613,), (154,))"
            ]
          },
          "execution_count": 21,
          "metadata": {},
          "output_type": "execute_result"
        }
      ],
      "source": [
        "X_train.shape,X_test.shape,y_train.shape,y_test.shape"
      ]
    },
    {
      "cell_type": "code",
      "execution_count": null,
      "metadata": {
        "id": "KQ4snUJ5M62B"
      },
      "outputs": [],
      "source": [
        "#aplicando el modelo de regresion lineal\n",
        "from sklearn.linear_model import LinearRegression\n",
        "linear_reg = LinearRegression()\n"
      ]
    },
    {
      "cell_type": "code",
      "execution_count": null,
      "metadata": {
        "id": "CIfJnXbZM62B"
      },
      "outputs": [],
      "source": [
        "model_linear = linear_reg.fit(X_train,y_train)"
      ]
    },
    {
      "cell_type": "code",
      "execution_count": null,
      "metadata": {
        "id": "QngwQGcjM62B"
      },
      "outputs": [],
      "source": [
        "#Aplicando Decision Tree (Árbol de decisión)\n",
        "from sklearn.tree import DecisionTreeRegressor\n",
        "tree_reg = DecisionTreeRegressor(random_state=42)\n",
        "model_tree = tree_reg.fit(X_train,y_train)"
      ]
    },
    {
      "cell_type": "markdown",
      "metadata": {
        "id": "acd2_sj6z706"
      },
      "source": [
        "##5- Aplicar alguna METRICAS de EVALUACION a los modelos anteriores y justificar la elección de dicha métrica."
      ]
    },
    {
      "cell_type": "code",
      "execution_count": null,
      "metadata": {
        "id": "K5Oaz4h_0CA8"
      },
      "outputs": [],
      "source": [
        "#Cross Validation (K-Fold)\n",
        "#En regresion Lineal\n",
        "from sklearn.model_selection import cross_val_score\n",
        "linear_scores = cross_val_score(model_linear,X,y,\n",
        "                                scoring='neg_mean_squared_error',cv=10)"
      ]
    },
    {
      "cell_type": "code",
      "execution_count": null,
      "metadata": {
        "id": "ht-Ak7mEM62B",
        "outputId": "ca162404-2e02-495d-ad35-19252a70a20b"
      },
      "outputs": [
        {
          "data": {
            "text/plain": [
              "array([-1.53084393, -3.4798124 , -4.23748643, -1.14381213, -0.67630292,\n",
              "       -0.59766649, -1.99202593, -3.0751201 , -2.30355764, -1.54187744])"
            ]
          },
          "execution_count": 26,
          "metadata": {},
          "output_type": "execute_result"
        }
      ],
      "source": [
        "linear_scores"
      ]
    },
    {
      "cell_type": "code",
      "execution_count": null,
      "metadata": {
        "id": "wCzBbtHFM62C",
        "outputId": "1048ece0-8a7e-417c-f859-d0c0c769d5a2"
      },
      "outputs": [
        {
          "data": {
            "text/plain": [
              "array([1.23727278, 1.86542553, 2.05851559, 1.06949153, 0.82237638,\n",
              "       0.77308893, 1.41139149, 1.75360204, 1.51774756, 1.24172358])"
            ]
          },
          "execution_count": 27,
          "metadata": {},
          "output_type": "execute_result"
        }
      ],
      "source": [
        "#Se cambia el signo y se saca la raíz\n",
        "linear_rmse = np.sqrt(-linear_scores)\n",
        "linear_rmse"
      ]
    },
    {
      "cell_type": "code",
      "execution_count": null,
      "metadata": {
        "id": "ARBviTRqM62C"
      },
      "outputs": [],
      "source": [
        "#Definiendo una función que devuelva el score, mean, y std dev\n",
        "def mostrar_scores(scores):\n",
        "    print(\"Score: \",scores)\n",
        "    print(\"Mean: \", scores.mean())\n",
        "    print(\"Std Dev: \", scores.std())"
      ]
    },
    {
      "cell_type": "code",
      "execution_count": null,
      "metadata": {
        "id": "8mIg7zmIM62C",
        "outputId": "07c3cd85-1305-4333-d536-103c3d318ccb"
      },
      "outputs": [
        {
          "name": "stdout",
          "output_type": "stream",
          "text": [
            "Score:  [1.23727278 1.86542553 2.05851559 1.06949153 0.82237638 0.77308893\n",
            " 1.41139149 1.75360204 1.51774756 1.24172358]\n",
            "Mean:  1.375063539034814\n",
            "Std Dev:  0.4087184904585392\n"
          ]
        }
      ],
      "source": [
        "mostrar_scores(linear_rmse)"
      ]
    },
    {
      "cell_type": "code",
      "execution_count": null,
      "metadata": {
        "id": "uemOu4X7M62G"
      },
      "outputs": [],
      "source": [
        "#Cross Validation (K-Fold)\n",
        "#En Árbol de Decisión\n",
        "tree_scores = cross_val_score(model_tree,X,y,\n",
        "                                scoring='neg_mean_squared_error',cv=10)"
      ]
    },
    {
      "cell_type": "code",
      "execution_count": null,
      "metadata": {
        "id": "v-UUefKXM62G",
        "outputId": "f9455f48-aa93-4bcd-886f-fa26ed05d1f1"
      },
      "outputs": [
        {
          "data": {
            "text/plain": [
              "array([-0.5819026 , -0.51936558, -0.55294567, -0.61198701, -0.28006364,\n",
              "       -1.28558788, -0.5825013 , -0.64376813, -0.45140132, -0.96217368])"
            ]
          },
          "execution_count": 31,
          "metadata": {},
          "output_type": "execute_result"
        }
      ],
      "source": [
        "tree_scores"
      ]
    },
    {
      "cell_type": "code",
      "execution_count": null,
      "metadata": {
        "id": "RBlNB2P6M62G",
        "outputId": "c13f77b6-caa1-4bdb-d70e-327d5917f350"
      },
      "outputs": [
        {
          "data": {
            "text/plain": [
              "array([0.7628254 , 0.72067023, 0.74360317, 0.78229599, 0.52921039,\n",
              "       1.13383768, 0.76321773, 0.80235162, 0.67186406, 0.98090452])"
            ]
          },
          "execution_count": 32,
          "metadata": {},
          "output_type": "execute_result"
        }
      ],
      "source": [
        "tree_rmse = np.sqrt(-tree_scores)\n",
        "tree_rmse"
      ]
    },
    {
      "cell_type": "code",
      "execution_count": null,
      "metadata": {
        "id": "5DoWP3_aM62G",
        "outputId": "a06da19d-56dd-4684-d08e-e93e259cea36"
      },
      "outputs": [
        {
          "name": "stdout",
          "output_type": "stream",
          "text": [
            "Score:  [0.7628254  0.72067023 0.74360317 0.78229599 0.52921039 1.13383768\n",
            " 0.76321773 0.80235162 0.67186406 0.98090452]\n",
            "Mean:  0.7890780794781799\n",
            "Std Dev:  0.15660608327230569\n"
          ]
        }
      ],
      "source": [
        "mostrar_scores(tree_rmse)"
      ]
    },
    {
      "cell_type": "markdown",
      "metadata": {
        "id": "eyul6-kk0Cgt"
      },
      "source": [
        "##6- Sacar una conclusión en función de los resultados, errores, y predicciones."
      ]
    },
    {
      "cell_type": "code",
      "execution_count": null,
      "metadata": {
        "id": "hvqrTPVd0GpU"
      },
      "outputs": [],
      "source": [
        "#Datos de evaluación\n",
        "modelos = ['Linear Regression', 'Decision Tree']\n",
        "means = [1.375063539034814,0.7890780794781799]\n",
        "sdev = [0.4087184904585392,0.15660608327230569]"
      ]
    },
    {
      "cell_type": "code",
      "execution_count": null,
      "metadata": {
        "id": "xE1xaroHM62H",
        "outputId": "d8aedc49-8b34-4444-f654-de4981aaad75"
      },
      "outputs": [
        {
          "data": {
            "image/png": "[encoded data removed]",
            "text/plain": [
              "<Figure size 288x360 with 1 Axes>"
            ]
          },
          "metadata": {
            "needs_background": "light"
          },
          "output_type": "display_data"
        }
      ],
      "source": [
        "#Agregamos gráfica\n",
        "plt.figure(figsize=(4,5))\n",
        "for i in range(2):\n",
        "    plt.errorbar(i,means[i],xerr=0,yerr=sdev[i],fmt='o',linewidth=3)\n",
        "plt.xticks([0,1],modelos)\n",
        "plt.title(\"Evalución de los modelos\")\n",
        "plt.ylim(0,2)\n",
        "plt.grid(which='major',color='#666666', linestyle='-')\n",
        "plt.minorticks_on()\n",
        "plt.grid(which='minor',color='#999999', linestyle='-', alpha=0.4)\n",
        "plt.show()"
      ]
    },
    {
      "cell_type": "markdown",
      "metadata": {
        "id": "xMm73P9l0G_V"
      },
      "source": [
        "##7- Aplicar un MODELO DE APRENDIZAJE NO SUPERVISADO (k-means, arbol de  decisión, KNN) Con el resultado obtenido del algoritmo de agrupamiento elegido, agregar al dataset una columna con esta nueva variables del grupo al que pertenece cada dato.\n"
      ]
    },
    {
      "cell_type": "code",
      "execution_count": null,
      "metadata": {
        "id": "D_qMrez-M62H"
      },
      "outputs": [],
      "source": []
    },
    {
      "cell_type": "code",
      "execution_count": null,
      "metadata": {
        "id": "WZwplaoM0JFk"
      },
      "outputs": [],
      "source": [
        "from sklearn.preprocessing import StandardScaler\n",
        "sc = StandardScaler()\n",
        "sc.fit(X_train)\n",
        "X_train_std = sc.transform(X_train)\n",
        "X_test_std = sc.transform(X_test)\n",
        "\n"
      ]
    },
    {
      "cell_type": "code",
      "execution_count": null,
      "metadata": {
        "id": "JSqD8boYM62H",
        "outputId": "0fd1af24-2fea-4b44-d1a1-ed9dffed4065"
      },
      "outputs": [
        {
          "ename": "ValueError",
          "evalue": "Unknown label type: 'continuous'",
          "output_type": "error",
          "traceback": [
            "\u001b[1;31m---------------------------------------------------------------------------\u001b[0m",
            "\u001b[1;31mValueError\u001b[0m                                Traceback (most recent call last)",
            "\u001b[1;32mc:\\Users\\tonym\\Documents\\Henry\\Data Science\\PortFolio Data Science\\MachineLearningUNSA\\UNSA_TRABAJO_INTEGRADOR_1_.ipynb Celda 50\u001b[0m line \u001b[0;36m7\n\u001b[0;32m      <a href='vscode-notebook-cell:/c%3A/Users/tonym/Documents/Henry/Data%20Science/PortFolio%20Data%20Science/MachineLearningUNSA/UNSA_TRABAJO_INTEGRADOR_1_.ipynb#Y103sZmlsZQ%3D%3D?line=2'>3</a>\u001b[0m arbol \u001b[39m=\u001b[39m DecisionTreeClassifier(criterion\u001b[39m=\u001b[39m\u001b[39m'\u001b[39m\u001b[39mgini\u001b[39m\u001b[39m'\u001b[39m,\n\u001b[0;32m      <a href='vscode-notebook-cell:/c%3A/Users/tonym/Documents/Henry/Data%20Science/PortFolio%20Data%20Science/MachineLearningUNSA/UNSA_TRABAJO_INTEGRADOR_1_.ipynb#Y103sZmlsZQ%3D%3D?line=3'>4</a>\u001b[0m                                max_depth\u001b[39m=\u001b[39m\u001b[39m5\u001b[39m,\n\u001b[0;32m      <a href='vscode-notebook-cell:/c%3A/Users/tonym/Documents/Henry/Data%20Science/PortFolio%20Data%20Science/MachineLearningUNSA/UNSA_TRABAJO_INTEGRADOR_1_.ipynb#Y103sZmlsZQ%3D%3D?line=4'>5</a>\u001b[0m                                random_state\u001b[39m=\u001b[39m \u001b[39m1\u001b[39m)\n\u001b[0;32m      <a href='vscode-notebook-cell:/c%3A/Users/tonym/Documents/Henry/Data%20Science/PortFolio%20Data%20Science/MachineLearningUNSA/UNSA_TRABAJO_INTEGRADOR_1_.ipynb#Y103sZmlsZQ%3D%3D?line=5'>6</a>\u001b[0m \u001b[39m#Ajuste del modelo\u001b[39;00m\n\u001b[1;32m----> <a href='vscode-notebook-cell:/c%3A/Users/tonym/Documents/Henry/Data%20Science/PortFolio%20Data%20Science/MachineLearningUNSA/UNSA_TRABAJO_INTEGRADOR_1_.ipynb#Y103sZmlsZQ%3D%3D?line=6'>7</a>\u001b[0m arbol\u001b[39m.\u001b[39;49mfit(X_train_std, y_train)\n",
            "File \u001b[1;32mc:\\Python39\\lib\\site-packages\\sklearn\\tree\\_classes.py:969\u001b[0m, in \u001b[0;36mDecisionTreeClassifier.fit\u001b[1;34m(self, X, y, sample_weight, check_input)\u001b[0m\n\u001b[0;32m    939\u001b[0m \u001b[39mdef\u001b[39;00m \u001b[39mfit\u001b[39m(\u001b[39mself\u001b[39m, X, y, sample_weight\u001b[39m=\u001b[39m\u001b[39mNone\u001b[39;00m, check_input\u001b[39m=\u001b[39m\u001b[39mTrue\u001b[39;00m):\n\u001b[0;32m    940\u001b[0m     \u001b[39m\"\"\"Build a decision tree classifier from the training set (X, y).\u001b[39;00m\n\u001b[0;32m    941\u001b[0m \n\u001b[0;32m    942\u001b[0m \u001b[39m    Parameters\u001b[39;00m\n\u001b[1;32m   (...)\u001b[0m\n\u001b[0;32m    966\u001b[0m \u001b[39m        Fitted estimator.\u001b[39;00m\n\u001b[0;32m    967\u001b[0m \u001b[39m    \"\"\"\u001b[39;00m\n\u001b[1;32m--> 969\u001b[0m     \u001b[39msuper\u001b[39;49m()\u001b[39m.\u001b[39;49mfit(\n\u001b[0;32m    970\u001b[0m         X,\n\u001b[0;32m    971\u001b[0m         y,\n\u001b[0;32m    972\u001b[0m         sample_weight\u001b[39m=\u001b[39;49msample_weight,\n\u001b[0;32m    973\u001b[0m         check_input\u001b[39m=\u001b[39;49mcheck_input,\n\u001b[0;32m    974\u001b[0m     )\n\u001b[0;32m    975\u001b[0m     \u001b[39mreturn\u001b[39;00m \u001b[39mself\u001b[39m\n",
            "File \u001b[1;32mc:\\Python39\\lib\\site-packages\\sklearn\\tree\\_classes.py:210\u001b[0m, in \u001b[0;36mBaseDecisionTree.fit\u001b[1;34m(self, X, y, sample_weight, check_input)\u001b[0m\n\u001b[0;32m    207\u001b[0m \u001b[39mself\u001b[39m\u001b[39m.\u001b[39mn_outputs_ \u001b[39m=\u001b[39m y\u001b[39m.\u001b[39mshape[\u001b[39m1\u001b[39m]\n\u001b[0;32m    209\u001b[0m \u001b[39mif\u001b[39;00m is_classification:\n\u001b[1;32m--> 210\u001b[0m     check_classification_targets(y)\n\u001b[0;32m    211\u001b[0m     y \u001b[39m=\u001b[39m np\u001b[39m.\u001b[39mcopy(y)\n\u001b[0;32m    213\u001b[0m     \u001b[39mself\u001b[39m\u001b[39m.\u001b[39mclasses_ \u001b[39m=\u001b[39m []\n",
            "File \u001b[1;32mc:\\Python39\\lib\\site-packages\\sklearn\\utils\\multiclass.py:200\u001b[0m, in \u001b[0;36mcheck_classification_targets\u001b[1;34m(y)\u001b[0m\n\u001b[0;32m    192\u001b[0m y_type \u001b[39m=\u001b[39m type_of_target(y, input_name\u001b[39m=\u001b[39m\u001b[39m\"\u001b[39m\u001b[39my\u001b[39m\u001b[39m\"\u001b[39m)\n\u001b[0;32m    193\u001b[0m \u001b[39mif\u001b[39;00m y_type \u001b[39mnot\u001b[39;00m \u001b[39min\u001b[39;00m [\n\u001b[0;32m    194\u001b[0m     \u001b[39m\"\u001b[39m\u001b[39mbinary\u001b[39m\u001b[39m\"\u001b[39m,\n\u001b[0;32m    195\u001b[0m     \u001b[39m\"\u001b[39m\u001b[39mmulticlass\u001b[39m\u001b[39m\"\u001b[39m,\n\u001b[1;32m   (...)\u001b[0m\n\u001b[0;32m    198\u001b[0m     \u001b[39m\"\u001b[39m\u001b[39mmultilabel-sequences\u001b[39m\u001b[39m\"\u001b[39m,\n\u001b[0;32m    199\u001b[0m ]:\n\u001b[1;32m--> 200\u001b[0m     \u001b[39mraise\u001b[39;00m \u001b[39mValueError\u001b[39;00m(\u001b[39m\"\u001b[39m\u001b[39mUnknown label type: \u001b[39m\u001b[39m%r\u001b[39;00m\u001b[39m\"\u001b[39m \u001b[39m%\u001b[39m y_type)\n",
            "\u001b[1;31mValueError\u001b[0m: Unknown label type: 'continuous'"
          ]
        }
      ],
      "source": [
        "from sklearn.tree import DecisionTreeClassifier\n",
        "#Configuración de los Hiperparámetros\n",
        "arbol = DecisionTreeClassifier(criterion='gini',\n",
        "                               max_depth=5,\n",
        "                               random_state= 1)\n",
        "#Ajuste del modelo\n",
        "arbol.fit(X_train_std, y_train)\n"
      ]
    },
    {
      "cell_type": "markdown",
      "metadata": {
        "id": "wFbhkdegM62I"
      },
      "source": [
        "El modelo DecisionTreeClassifier dá un **error** del tipo continuo, debido a que la variable a predecir no es categórica, sino es del tipo continuo. Lo que indica que el método usado de ***DECISIONTREEREGRESSOR es el modelo adecuado***."
      ]
    },
    {
      "cell_type": "markdown",
      "metadata": {
        "id": "HYoODPEl0Mnd"
      },
      "source": [
        "##8- Generar una conclusión con relación a como podría obtener mejores datos en este dataset, o que información considera importante que se podria evaluar para mejorar su predicción encontrada."
      ]
    },
    {
      "cell_type": "markdown",
      "metadata": {
        "id": "oAvtpU4RM62I"
      },
      "source": [
        "Como podemos observar en el gráfico, ut supra, el modelo de Árbol de decisión es el que mejor se ajusta para poder estimar un valor ***precio_usd_kg***, usando el **año**, **mes** , **producto**."
      ]
    },
    {
      "cell_type": "markdown",
      "metadata": {
        "id": "vNIET5NxM62I"
      },
      "source": [
        "La desciación standart es menor, el error medio es más pequeño."
      ]
    },
    {
      "cell_type": "markdown",
      "metadata": {
        "id": "wuiHBvmPM62I"
      },
      "source": []
    }
  ],
  "metadata": {
    "colab": {
      "provenance": [],
      "include_colab_link": true
    },
    "kernelspec": {
      "display_name": "Python 3",
      "name": "python3"
    },
    "language_info": {
      "codemirror_mode": {
        "name": "ipython",
        "version": 3
      },
      "file_extension": ".py",
      "mimetype": "text/x-python",
      "name": "python",
      "nbconvert_exporter": "python",
      "pygments_lexer": "ipython3",
      "version": "3.9.6"
    }
  },
  "nbformat": 4,
  "nbformat_minor": 0
}